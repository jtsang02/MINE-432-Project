{
 "cells": [
  {
   "attachments": {},
   "cell_type": "markdown",
   "id": "d3605422-b34f-4199-aa01-c6d7ba080622",
   "metadata": {},
   "source": [
    "# MINE 432 Final Project - Quality Prediction of Iron Ore"
   ]
  },
  {
   "attachments": {},
   "cell_type": "markdown",
   "id": "3a66ae3b",
   "metadata": {},
   "source": [
    "## Summary / Introduction"
   ]
  },
  {
   "attachments": {},
   "cell_type": "markdown",
   "id": "184adb6d",
   "metadata": {},
   "source": [
    "This is a summary of our project."
   ]
  },
  {
   "attachments": {},
   "cell_type": "markdown",
   "id": "681cf9ed-3af2-426e-a4c0-f700e7a9e729",
   "metadata": {},
   "source": [
    "### Importing Basic Libraries"
   ]
  },
  {
   "cell_type": "code",
   "execution_count": 1037,
   "id": "50435b6a-111b-495e-9af9-ca2aa0c43bb3",
   "metadata": {},
   "outputs": [],
   "source": [
    "import numpy as np \n",
    "import pandas as pd \n",
    "from matplotlib import pyplot as plt\n",
    "\n",
    "import seaborn as sb\n",
    "import seaborn as sns\n",
    "from seaborn import heatmap\n",
    "from sklearn.model_selection import train_test_split\n",
    "from sklearn.preprocessing import StandardScaler\n",
    "from sklearn.metrics import accuracy_score"
   ]
  },
  {
   "cell_type": "markdown",
   "id": "d65cf566-b637-4a74-893a-4e88e813b96d",
   "metadata": {},
   "source": [
    "## Importing the Dataset"
   ]
  },
  {
   "cell_type": "code",
   "execution_count": 1038,
   "id": "95d47113-cba9-49e0-8240-afacc0e46774",
   "metadata": {},
   "outputs": [],
   "source": [
    "dataset = pd.read_csv('MiningProcess_Flotation_Plant_Database.csv', decimal=',')"
   ]
  },
  {
   "attachments": {},
   "cell_type": "markdown",
   "id": "057741e5-5c38-4bde-ba63-b5a25831ad0f",
   "metadata": {},
   "source": [
    "### A Quick Review of the Data"
   ]
  },
  {
   "attachments": {},
   "cell_type": "markdown",
   "id": "3abb9c76",
   "metadata": {},
   "source": [
    "Show the dataframe"
   ]
  },
  {
   "cell_type": "code",
   "execution_count": 1039,
   "id": "87e88eaf",
   "metadata": {},
   "outputs": [
    {
     "data": {
      "text/html": [
       "<div>\n",
       "<style scoped>\n",
       "    .dataframe tbody tr th:only-of-type {\n",
       "        vertical-align: middle;\n",
       "    }\n",
       "\n",
       "    .dataframe tbody tr th {\n",
       "        vertical-align: top;\n",
       "    }\n",
       "\n",
       "    .dataframe thead th {\n",
       "        text-align: right;\n",
       "    }\n",
       "</style>\n",
       "<table border=\"1\" class=\"dataframe\">\n",
       "  <thead>\n",
       "    <tr style=\"text-align: right;\">\n",
       "      <th></th>\n",
       "      <th>date</th>\n",
       "      <th>% Iron Feed</th>\n",
       "      <th>% Silica Feed</th>\n",
       "      <th>Starch Flow</th>\n",
       "      <th>Amina Flow</th>\n",
       "      <th>Ore Pulp Flow</th>\n",
       "      <th>Ore Pulp pH</th>\n",
       "      <th>Ore Pulp Density</th>\n",
       "      <th>Flotation Column 01 Air Flow</th>\n",
       "      <th>Flotation Column 02 Air Flow</th>\n",
       "      <th>...</th>\n",
       "      <th>Flotation Column 07 Air Flow</th>\n",
       "      <th>Flotation Column 01 Level</th>\n",
       "      <th>Flotation Column 02 Level</th>\n",
       "      <th>Flotation Column 03 Level</th>\n",
       "      <th>Flotation Column 04 Level</th>\n",
       "      <th>Flotation Column 05 Level</th>\n",
       "      <th>Flotation Column 06 Level</th>\n",
       "      <th>Flotation Column 07 Level</th>\n",
       "      <th>% Iron Concentrate</th>\n",
       "      <th>% Silica Concentrate</th>\n",
       "    </tr>\n",
       "  </thead>\n",
       "  <tbody>\n",
       "    <tr>\n",
       "      <th>0</th>\n",
       "      <td>2017-03-10 01:00:00</td>\n",
       "      <td>55.20</td>\n",
       "      <td>16.98</td>\n",
       "      <td>3019.53</td>\n",
       "      <td>557.434</td>\n",
       "      <td>395.713</td>\n",
       "      <td>10.06640</td>\n",
       "      <td>1.74000</td>\n",
       "      <td>249.214</td>\n",
       "      <td>253.235</td>\n",
       "      <td>...</td>\n",
       "      <td>250.884</td>\n",
       "      <td>457.396</td>\n",
       "      <td>432.962</td>\n",
       "      <td>424.954</td>\n",
       "      <td>443.558</td>\n",
       "      <td>502.255</td>\n",
       "      <td>446.370</td>\n",
       "      <td>523.344</td>\n",
       "      <td>66.91</td>\n",
       "      <td>1.31</td>\n",
       "    </tr>\n",
       "    <tr>\n",
       "      <th>1</th>\n",
       "      <td>2017-03-10 01:00:00</td>\n",
       "      <td>55.20</td>\n",
       "      <td>16.98</td>\n",
       "      <td>3024.41</td>\n",
       "      <td>563.965</td>\n",
       "      <td>397.383</td>\n",
       "      <td>10.06720</td>\n",
       "      <td>1.74000</td>\n",
       "      <td>249.719</td>\n",
       "      <td>250.532</td>\n",
       "      <td>...</td>\n",
       "      <td>248.994</td>\n",
       "      <td>451.891</td>\n",
       "      <td>429.560</td>\n",
       "      <td>432.939</td>\n",
       "      <td>448.086</td>\n",
       "      <td>496.363</td>\n",
       "      <td>445.922</td>\n",
       "      <td>498.075</td>\n",
       "      <td>66.91</td>\n",
       "      <td>1.31</td>\n",
       "    </tr>\n",
       "    <tr>\n",
       "      <th>2</th>\n",
       "      <td>2017-03-10 01:00:00</td>\n",
       "      <td>55.20</td>\n",
       "      <td>16.98</td>\n",
       "      <td>3043.46</td>\n",
       "      <td>568.054</td>\n",
       "      <td>399.668</td>\n",
       "      <td>10.06800</td>\n",
       "      <td>1.74000</td>\n",
       "      <td>249.741</td>\n",
       "      <td>247.874</td>\n",
       "      <td>...</td>\n",
       "      <td>248.071</td>\n",
       "      <td>451.240</td>\n",
       "      <td>468.927</td>\n",
       "      <td>434.610</td>\n",
       "      <td>449.688</td>\n",
       "      <td>484.411</td>\n",
       "      <td>447.826</td>\n",
       "      <td>458.567</td>\n",
       "      <td>66.91</td>\n",
       "      <td>1.31</td>\n",
       "    </tr>\n",
       "    <tr>\n",
       "      <th>3</th>\n",
       "      <td>2017-03-10 01:00:00</td>\n",
       "      <td>55.20</td>\n",
       "      <td>16.98</td>\n",
       "      <td>3047.36</td>\n",
       "      <td>568.665</td>\n",
       "      <td>397.939</td>\n",
       "      <td>10.06890</td>\n",
       "      <td>1.74000</td>\n",
       "      <td>249.917</td>\n",
       "      <td>254.487</td>\n",
       "      <td>...</td>\n",
       "      <td>251.147</td>\n",
       "      <td>452.441</td>\n",
       "      <td>458.165</td>\n",
       "      <td>442.865</td>\n",
       "      <td>446.210</td>\n",
       "      <td>471.411</td>\n",
       "      <td>437.690</td>\n",
       "      <td>427.669</td>\n",
       "      <td>66.91</td>\n",
       "      <td>1.31</td>\n",
       "    </tr>\n",
       "    <tr>\n",
       "      <th>4</th>\n",
       "      <td>2017-03-10 01:00:00</td>\n",
       "      <td>55.20</td>\n",
       "      <td>16.98</td>\n",
       "      <td>3033.69</td>\n",
       "      <td>558.167</td>\n",
       "      <td>400.254</td>\n",
       "      <td>10.06970</td>\n",
       "      <td>1.74000</td>\n",
       "      <td>250.203</td>\n",
       "      <td>252.136</td>\n",
       "      <td>...</td>\n",
       "      <td>248.928</td>\n",
       "      <td>452.441</td>\n",
       "      <td>452.900</td>\n",
       "      <td>450.523</td>\n",
       "      <td>453.670</td>\n",
       "      <td>462.598</td>\n",
       "      <td>443.682</td>\n",
       "      <td>425.679</td>\n",
       "      <td>66.91</td>\n",
       "      <td>1.31</td>\n",
       "    </tr>\n",
       "    <tr>\n",
       "      <th>...</th>\n",
       "      <td>...</td>\n",
       "      <td>...</td>\n",
       "      <td>...</td>\n",
       "      <td>...</td>\n",
       "      <td>...</td>\n",
       "      <td>...</td>\n",
       "      <td>...</td>\n",
       "      <td>...</td>\n",
       "      <td>...</td>\n",
       "      <td>...</td>\n",
       "      <td>...</td>\n",
       "      <td>...</td>\n",
       "      <td>...</td>\n",
       "      <td>...</td>\n",
       "      <td>...</td>\n",
       "      <td>...</td>\n",
       "      <td>...</td>\n",
       "      <td>...</td>\n",
       "      <td>...</td>\n",
       "      <td>...</td>\n",
       "      <td>...</td>\n",
       "    </tr>\n",
       "    <tr>\n",
       "      <th>737448</th>\n",
       "      <td>2017-09-09 23:00:00</td>\n",
       "      <td>49.75</td>\n",
       "      <td>23.20</td>\n",
       "      <td>2710.94</td>\n",
       "      <td>441.052</td>\n",
       "      <td>386.570</td>\n",
       "      <td>9.62129</td>\n",
       "      <td>1.65365</td>\n",
       "      <td>302.344</td>\n",
       "      <td>298.786</td>\n",
       "      <td>...</td>\n",
       "      <td>313.695</td>\n",
       "      <td>392.160</td>\n",
       "      <td>430.702</td>\n",
       "      <td>872.008</td>\n",
       "      <td>418.725</td>\n",
       "      <td>497.548</td>\n",
       "      <td>446.357</td>\n",
       "      <td>416.892</td>\n",
       "      <td>64.27</td>\n",
       "      <td>1.71</td>\n",
       "    </tr>\n",
       "    <tr>\n",
       "      <th>737449</th>\n",
       "      <td>2017-09-09 23:00:00</td>\n",
       "      <td>49.75</td>\n",
       "      <td>23.20</td>\n",
       "      <td>2692.01</td>\n",
       "      <td>473.436</td>\n",
       "      <td>384.939</td>\n",
       "      <td>9.62063</td>\n",
       "      <td>1.65352</td>\n",
       "      <td>303.013</td>\n",
       "      <td>301.879</td>\n",
       "      <td>...</td>\n",
       "      <td>236.700</td>\n",
       "      <td>401.505</td>\n",
       "      <td>404.616</td>\n",
       "      <td>864.409</td>\n",
       "      <td>418.377</td>\n",
       "      <td>506.398</td>\n",
       "      <td>372.995</td>\n",
       "      <td>426.337</td>\n",
       "      <td>64.27</td>\n",
       "      <td>1.71</td>\n",
       "    </tr>\n",
       "    <tr>\n",
       "      <th>737450</th>\n",
       "      <td>2017-09-09 23:00:00</td>\n",
       "      <td>49.75</td>\n",
       "      <td>23.20</td>\n",
       "      <td>2692.20</td>\n",
       "      <td>500.488</td>\n",
       "      <td>383.496</td>\n",
       "      <td>9.61874</td>\n",
       "      <td>1.65338</td>\n",
       "      <td>303.662</td>\n",
       "      <td>307.397</td>\n",
       "      <td>...</td>\n",
       "      <td>225.879</td>\n",
       "      <td>408.899</td>\n",
       "      <td>399.316</td>\n",
       "      <td>867.598</td>\n",
       "      <td>419.531</td>\n",
       "      <td>503.414</td>\n",
       "      <td>336.035</td>\n",
       "      <td>433.130</td>\n",
       "      <td>64.27</td>\n",
       "      <td>1.71</td>\n",
       "    </tr>\n",
       "    <tr>\n",
       "      <th>737451</th>\n",
       "      <td>2017-09-09 23:00:00</td>\n",
       "      <td>49.75</td>\n",
       "      <td>23.20</td>\n",
       "      <td>1164.12</td>\n",
       "      <td>491.548</td>\n",
       "      <td>384.976</td>\n",
       "      <td>9.61686</td>\n",
       "      <td>1.65324</td>\n",
       "      <td>302.550</td>\n",
       "      <td>301.959</td>\n",
       "      <td>...</td>\n",
       "      <td>308.115</td>\n",
       "      <td>405.107</td>\n",
       "      <td>466.832</td>\n",
       "      <td>876.591</td>\n",
       "      <td>407.299</td>\n",
       "      <td>502.301</td>\n",
       "      <td>340.844</td>\n",
       "      <td>433.966</td>\n",
       "      <td>64.27</td>\n",
       "      <td>1.71</td>\n",
       "    </tr>\n",
       "    <tr>\n",
       "      <th>737452</th>\n",
       "      <td>2017-09-09 23:00:00</td>\n",
       "      <td>49.75</td>\n",
       "      <td>23.20</td>\n",
       "      <td>1164.12</td>\n",
       "      <td>468.019</td>\n",
       "      <td>384.801</td>\n",
       "      <td>9.61497</td>\n",
       "      <td>1.65310</td>\n",
       "      <td>300.355</td>\n",
       "      <td>292.865</td>\n",
       "      <td>...</td>\n",
       "      <td>308.115</td>\n",
       "      <td>413.754</td>\n",
       "      <td>514.143</td>\n",
       "      <td>881.323</td>\n",
       "      <td>378.969</td>\n",
       "      <td>500.100</td>\n",
       "      <td>374.354</td>\n",
       "      <td>441.182</td>\n",
       "      <td>64.27</td>\n",
       "      <td>1.71</td>\n",
       "    </tr>\n",
       "  </tbody>\n",
       "</table>\n",
       "<p>737453 rows × 24 columns</p>\n",
       "</div>"
      ],
      "text/plain": [
       "                       date  % Iron Feed  % Silica Feed  Starch Flow  \\\n",
       "0       2017-03-10 01:00:00        55.20          16.98      3019.53   \n",
       "1       2017-03-10 01:00:00        55.20          16.98      3024.41   \n",
       "2       2017-03-10 01:00:00        55.20          16.98      3043.46   \n",
       "3       2017-03-10 01:00:00        55.20          16.98      3047.36   \n",
       "4       2017-03-10 01:00:00        55.20          16.98      3033.69   \n",
       "...                     ...          ...            ...          ...   \n",
       "737448  2017-09-09 23:00:00        49.75          23.20      2710.94   \n",
       "737449  2017-09-09 23:00:00        49.75          23.20      2692.01   \n",
       "737450  2017-09-09 23:00:00        49.75          23.20      2692.20   \n",
       "737451  2017-09-09 23:00:00        49.75          23.20      1164.12   \n",
       "737452  2017-09-09 23:00:00        49.75          23.20      1164.12   \n",
       "\n",
       "        Amina Flow  Ore Pulp Flow  Ore Pulp pH  Ore Pulp Density  \\\n",
       "0          557.434        395.713     10.06640           1.74000   \n",
       "1          563.965        397.383     10.06720           1.74000   \n",
       "2          568.054        399.668     10.06800           1.74000   \n",
       "3          568.665        397.939     10.06890           1.74000   \n",
       "4          558.167        400.254     10.06970           1.74000   \n",
       "...            ...            ...          ...               ...   \n",
       "737448     441.052        386.570      9.62129           1.65365   \n",
       "737449     473.436        384.939      9.62063           1.65352   \n",
       "737450     500.488        383.496      9.61874           1.65338   \n",
       "737451     491.548        384.976      9.61686           1.65324   \n",
       "737452     468.019        384.801      9.61497           1.65310   \n",
       "\n",
       "        Flotation Column 01 Air Flow  Flotation Column 02 Air Flow  ...  \\\n",
       "0                            249.214                       253.235  ...   \n",
       "1                            249.719                       250.532  ...   \n",
       "2                            249.741                       247.874  ...   \n",
       "3                            249.917                       254.487  ...   \n",
       "4                            250.203                       252.136  ...   \n",
       "...                              ...                           ...  ...   \n",
       "737448                       302.344                       298.786  ...   \n",
       "737449                       303.013                       301.879  ...   \n",
       "737450                       303.662                       307.397  ...   \n",
       "737451                       302.550                       301.959  ...   \n",
       "737452                       300.355                       292.865  ...   \n",
       "\n",
       "        Flotation Column 07 Air Flow  Flotation Column 01 Level  \\\n",
       "0                            250.884                    457.396   \n",
       "1                            248.994                    451.891   \n",
       "2                            248.071                    451.240   \n",
       "3                            251.147                    452.441   \n",
       "4                            248.928                    452.441   \n",
       "...                              ...                        ...   \n",
       "737448                       313.695                    392.160   \n",
       "737449                       236.700                    401.505   \n",
       "737450                       225.879                    408.899   \n",
       "737451                       308.115                    405.107   \n",
       "737452                       308.115                    413.754   \n",
       "\n",
       "        Flotation Column 02 Level  Flotation Column 03 Level  \\\n",
       "0                         432.962                    424.954   \n",
       "1                         429.560                    432.939   \n",
       "2                         468.927                    434.610   \n",
       "3                         458.165                    442.865   \n",
       "4                         452.900                    450.523   \n",
       "...                           ...                        ...   \n",
       "737448                    430.702                    872.008   \n",
       "737449                    404.616                    864.409   \n",
       "737450                    399.316                    867.598   \n",
       "737451                    466.832                    876.591   \n",
       "737452                    514.143                    881.323   \n",
       "\n",
       "        Flotation Column 04 Level  Flotation Column 05 Level  \\\n",
       "0                         443.558                    502.255   \n",
       "1                         448.086                    496.363   \n",
       "2                         449.688                    484.411   \n",
       "3                         446.210                    471.411   \n",
       "4                         453.670                    462.598   \n",
       "...                           ...                        ...   \n",
       "737448                    418.725                    497.548   \n",
       "737449                    418.377                    506.398   \n",
       "737450                    419.531                    503.414   \n",
       "737451                    407.299                    502.301   \n",
       "737452                    378.969                    500.100   \n",
       "\n",
       "        Flotation Column 06 Level  Flotation Column 07 Level  \\\n",
       "0                         446.370                    523.344   \n",
       "1                         445.922                    498.075   \n",
       "2                         447.826                    458.567   \n",
       "3                         437.690                    427.669   \n",
       "4                         443.682                    425.679   \n",
       "...                           ...                        ...   \n",
       "737448                    446.357                    416.892   \n",
       "737449                    372.995                    426.337   \n",
       "737450                    336.035                    433.130   \n",
       "737451                    340.844                    433.966   \n",
       "737452                    374.354                    441.182   \n",
       "\n",
       "        % Iron Concentrate  % Silica Concentrate  \n",
       "0                    66.91                  1.31  \n",
       "1                    66.91                  1.31  \n",
       "2                    66.91                  1.31  \n",
       "3                    66.91                  1.31  \n",
       "4                    66.91                  1.31  \n",
       "...                    ...                   ...  \n",
       "737448               64.27                  1.71  \n",
       "737449               64.27                  1.71  \n",
       "737450               64.27                  1.71  \n",
       "737451               64.27                  1.71  \n",
       "737452               64.27                  1.71  \n",
       "\n",
       "[737453 rows x 24 columns]"
      ]
     },
     "execution_count": 1039,
     "metadata": {},
     "output_type": "execute_result"
    }
   ],
   "source": [
    "dataset"
   ]
  },
  {
   "cell_type": "code",
   "execution_count": 1040,
   "id": "3a68688c-a2e0-4fd9-83cb-6d891981ab75",
   "metadata": {},
   "outputs": [
    {
     "data": {
      "text/html": [
       "<div>\n",
       "<style scoped>\n",
       "    .dataframe tbody tr th:only-of-type {\n",
       "        vertical-align: middle;\n",
       "    }\n",
       "\n",
       "    .dataframe tbody tr th {\n",
       "        vertical-align: top;\n",
       "    }\n",
       "\n",
       "    .dataframe thead th {\n",
       "        text-align: right;\n",
       "    }\n",
       "</style>\n",
       "<table border=\"1\" class=\"dataframe\">\n",
       "  <thead>\n",
       "    <tr style=\"text-align: right;\">\n",
       "      <th></th>\n",
       "      <th>date</th>\n",
       "      <th>% Iron Feed</th>\n",
       "      <th>% Silica Feed</th>\n",
       "      <th>Starch Flow</th>\n",
       "      <th>Amina Flow</th>\n",
       "      <th>Ore Pulp Flow</th>\n",
       "      <th>Ore Pulp pH</th>\n",
       "      <th>Ore Pulp Density</th>\n",
       "      <th>Flotation Column 01 Air Flow</th>\n",
       "      <th>Flotation Column 02 Air Flow</th>\n",
       "      <th>...</th>\n",
       "      <th>Flotation Column 07 Air Flow</th>\n",
       "      <th>Flotation Column 01 Level</th>\n",
       "      <th>Flotation Column 02 Level</th>\n",
       "      <th>Flotation Column 03 Level</th>\n",
       "      <th>Flotation Column 04 Level</th>\n",
       "      <th>Flotation Column 05 Level</th>\n",
       "      <th>Flotation Column 06 Level</th>\n",
       "      <th>Flotation Column 07 Level</th>\n",
       "      <th>% Iron Concentrate</th>\n",
       "      <th>% Silica Concentrate</th>\n",
       "    </tr>\n",
       "  </thead>\n",
       "  <tbody>\n",
       "    <tr>\n",
       "      <th>0</th>\n",
       "      <td>2017-03-10 01:00:00</td>\n",
       "      <td>55.2</td>\n",
       "      <td>16.98</td>\n",
       "      <td>3019.53</td>\n",
       "      <td>557.434</td>\n",
       "      <td>395.713</td>\n",
       "      <td>10.0664</td>\n",
       "      <td>1.74</td>\n",
       "      <td>249.214</td>\n",
       "      <td>253.235</td>\n",
       "      <td>...</td>\n",
       "      <td>250.884</td>\n",
       "      <td>457.396</td>\n",
       "      <td>432.962</td>\n",
       "      <td>424.954</td>\n",
       "      <td>443.558</td>\n",
       "      <td>502.255</td>\n",
       "      <td>446.370</td>\n",
       "      <td>523.344</td>\n",
       "      <td>66.91</td>\n",
       "      <td>1.31</td>\n",
       "    </tr>\n",
       "    <tr>\n",
       "      <th>1</th>\n",
       "      <td>2017-03-10 01:00:00</td>\n",
       "      <td>55.2</td>\n",
       "      <td>16.98</td>\n",
       "      <td>3024.41</td>\n",
       "      <td>563.965</td>\n",
       "      <td>397.383</td>\n",
       "      <td>10.0672</td>\n",
       "      <td>1.74</td>\n",
       "      <td>249.719</td>\n",
       "      <td>250.532</td>\n",
       "      <td>...</td>\n",
       "      <td>248.994</td>\n",
       "      <td>451.891</td>\n",
       "      <td>429.560</td>\n",
       "      <td>432.939</td>\n",
       "      <td>448.086</td>\n",
       "      <td>496.363</td>\n",
       "      <td>445.922</td>\n",
       "      <td>498.075</td>\n",
       "      <td>66.91</td>\n",
       "      <td>1.31</td>\n",
       "    </tr>\n",
       "    <tr>\n",
       "      <th>2</th>\n",
       "      <td>2017-03-10 01:00:00</td>\n",
       "      <td>55.2</td>\n",
       "      <td>16.98</td>\n",
       "      <td>3043.46</td>\n",
       "      <td>568.054</td>\n",
       "      <td>399.668</td>\n",
       "      <td>10.0680</td>\n",
       "      <td>1.74</td>\n",
       "      <td>249.741</td>\n",
       "      <td>247.874</td>\n",
       "      <td>...</td>\n",
       "      <td>248.071</td>\n",
       "      <td>451.240</td>\n",
       "      <td>468.927</td>\n",
       "      <td>434.610</td>\n",
       "      <td>449.688</td>\n",
       "      <td>484.411</td>\n",
       "      <td>447.826</td>\n",
       "      <td>458.567</td>\n",
       "      <td>66.91</td>\n",
       "      <td>1.31</td>\n",
       "    </tr>\n",
       "    <tr>\n",
       "      <th>3</th>\n",
       "      <td>2017-03-10 01:00:00</td>\n",
       "      <td>55.2</td>\n",
       "      <td>16.98</td>\n",
       "      <td>3047.36</td>\n",
       "      <td>568.665</td>\n",
       "      <td>397.939</td>\n",
       "      <td>10.0689</td>\n",
       "      <td>1.74</td>\n",
       "      <td>249.917</td>\n",
       "      <td>254.487</td>\n",
       "      <td>...</td>\n",
       "      <td>251.147</td>\n",
       "      <td>452.441</td>\n",
       "      <td>458.165</td>\n",
       "      <td>442.865</td>\n",
       "      <td>446.210</td>\n",
       "      <td>471.411</td>\n",
       "      <td>437.690</td>\n",
       "      <td>427.669</td>\n",
       "      <td>66.91</td>\n",
       "      <td>1.31</td>\n",
       "    </tr>\n",
       "    <tr>\n",
       "      <th>4</th>\n",
       "      <td>2017-03-10 01:00:00</td>\n",
       "      <td>55.2</td>\n",
       "      <td>16.98</td>\n",
       "      <td>3033.69</td>\n",
       "      <td>558.167</td>\n",
       "      <td>400.254</td>\n",
       "      <td>10.0697</td>\n",
       "      <td>1.74</td>\n",
       "      <td>250.203</td>\n",
       "      <td>252.136</td>\n",
       "      <td>...</td>\n",
       "      <td>248.928</td>\n",
       "      <td>452.441</td>\n",
       "      <td>452.900</td>\n",
       "      <td>450.523</td>\n",
       "      <td>453.670</td>\n",
       "      <td>462.598</td>\n",
       "      <td>443.682</td>\n",
       "      <td>425.679</td>\n",
       "      <td>66.91</td>\n",
       "      <td>1.31</td>\n",
       "    </tr>\n",
       "  </tbody>\n",
       "</table>\n",
       "<p>5 rows × 24 columns</p>\n",
       "</div>"
      ],
      "text/plain": [
       "                  date  % Iron Feed  % Silica Feed  Starch Flow  Amina Flow  \\\n",
       "0  2017-03-10 01:00:00         55.2          16.98      3019.53     557.434   \n",
       "1  2017-03-10 01:00:00         55.2          16.98      3024.41     563.965   \n",
       "2  2017-03-10 01:00:00         55.2          16.98      3043.46     568.054   \n",
       "3  2017-03-10 01:00:00         55.2          16.98      3047.36     568.665   \n",
       "4  2017-03-10 01:00:00         55.2          16.98      3033.69     558.167   \n",
       "\n",
       "   Ore Pulp Flow  Ore Pulp pH  Ore Pulp Density  Flotation Column 01 Air Flow  \\\n",
       "0        395.713      10.0664              1.74                       249.214   \n",
       "1        397.383      10.0672              1.74                       249.719   \n",
       "2        399.668      10.0680              1.74                       249.741   \n",
       "3        397.939      10.0689              1.74                       249.917   \n",
       "4        400.254      10.0697              1.74                       250.203   \n",
       "\n",
       "   Flotation Column 02 Air Flow  ...  Flotation Column 07 Air Flow  \\\n",
       "0                       253.235  ...                       250.884   \n",
       "1                       250.532  ...                       248.994   \n",
       "2                       247.874  ...                       248.071   \n",
       "3                       254.487  ...                       251.147   \n",
       "4                       252.136  ...                       248.928   \n",
       "\n",
       "   Flotation Column 01 Level  Flotation Column 02 Level  \\\n",
       "0                    457.396                    432.962   \n",
       "1                    451.891                    429.560   \n",
       "2                    451.240                    468.927   \n",
       "3                    452.441                    458.165   \n",
       "4                    452.441                    452.900   \n",
       "\n",
       "   Flotation Column 03 Level  Flotation Column 04 Level  \\\n",
       "0                    424.954                    443.558   \n",
       "1                    432.939                    448.086   \n",
       "2                    434.610                    449.688   \n",
       "3                    442.865                    446.210   \n",
       "4                    450.523                    453.670   \n",
       "\n",
       "   Flotation Column 05 Level  Flotation Column 06 Level  \\\n",
       "0                    502.255                    446.370   \n",
       "1                    496.363                    445.922   \n",
       "2                    484.411                    447.826   \n",
       "3                    471.411                    437.690   \n",
       "4                    462.598                    443.682   \n",
       "\n",
       "   Flotation Column 07 Level  % Iron Concentrate  % Silica Concentrate  \n",
       "0                    523.344               66.91                  1.31  \n",
       "1                    498.075               66.91                  1.31  \n",
       "2                    458.567               66.91                  1.31  \n",
       "3                    427.669               66.91                  1.31  \n",
       "4                    425.679               66.91                  1.31  \n",
       "\n",
       "[5 rows x 24 columns]"
      ]
     },
     "execution_count": 1040,
     "metadata": {},
     "output_type": "execute_result"
    }
   ],
   "source": [
    "dataset.head()"
   ]
  },
  {
   "cell_type": "code",
   "execution_count": 1041,
   "id": "655e2aa0",
   "metadata": {},
   "outputs": [
    {
     "data": {
      "text/plain": [
       "date                             object\n",
       "% Iron Feed                     float64\n",
       "% Silica Feed                   float64\n",
       "Starch Flow                     float64\n",
       "Amina Flow                      float64\n",
       "Ore Pulp Flow                   float64\n",
       "Ore Pulp pH                     float64\n",
       "Ore Pulp Density                float64\n",
       "Flotation Column 01 Air Flow    float64\n",
       "Flotation Column 02 Air Flow    float64\n",
       "Flotation Column 03 Air Flow    float64\n",
       "Flotation Column 04 Air Flow    float64\n",
       "Flotation Column 05 Air Flow    float64\n",
       "Flotation Column 06 Air Flow    float64\n",
       "Flotation Column 07 Air Flow    float64\n",
       "Flotation Column 01 Level       float64\n",
       "Flotation Column 02 Level       float64\n",
       "Flotation Column 03 Level       float64\n",
       "Flotation Column 04 Level       float64\n",
       "Flotation Column 05 Level       float64\n",
       "Flotation Column 06 Level       float64\n",
       "Flotation Column 07 Level       float64\n",
       "% Iron Concentrate              float64\n",
       "% Silica Concentrate            float64\n",
       "dtype: object"
      ]
     },
     "execution_count": 1041,
     "metadata": {},
     "output_type": "execute_result"
    }
   ],
   "source": [
    "# get the types of each column\n",
    "dataset.dtypes"
   ]
  },
  {
   "attachments": {},
   "cell_type": "markdown",
   "id": "eae84410",
   "metadata": {},
   "source": [
    "Check for missing data"
   ]
  },
  {
   "cell_type": "code",
   "execution_count": 1042,
   "id": "d59125fc",
   "metadata": {},
   "outputs": [
    {
     "data": {
      "text/plain": [
       "date                            0\n",
       "% Iron Feed                     0\n",
       "% Silica Feed                   0\n",
       "Starch Flow                     0\n",
       "Amina Flow                      0\n",
       "Ore Pulp Flow                   0\n",
       "Ore Pulp pH                     0\n",
       "Ore Pulp Density                0\n",
       "Flotation Column 01 Air Flow    0\n",
       "Flotation Column 02 Air Flow    0\n",
       "Flotation Column 03 Air Flow    0\n",
       "Flotation Column 04 Air Flow    0\n",
       "Flotation Column 05 Air Flow    0\n",
       "Flotation Column 06 Air Flow    0\n",
       "Flotation Column 07 Air Flow    0\n",
       "Flotation Column 01 Level       0\n",
       "Flotation Column 02 Level       0\n",
       "Flotation Column 03 Level       0\n",
       "Flotation Column 04 Level       0\n",
       "Flotation Column 05 Level       0\n",
       "Flotation Column 06 Level       0\n",
       "Flotation Column 07 Level       0\n",
       "% Iron Concentrate              0\n",
       "% Silica Concentrate            0\n",
       "dtype: int64"
      ]
     },
     "execution_count": 1042,
     "metadata": {},
     "output_type": "execute_result"
    }
   ],
   "source": [
    "#check for missing values\n",
    "dataset.isnull().sum()"
   ]
  },
  {
   "attachments": {},
   "cell_type": "markdown",
   "id": "a422f5ad",
   "metadata": {},
   "source": [
    "## Exploratory Data Analysis (EDA)"
   ]
  },
  {
   "attachments": {},
   "cell_type": "markdown",
   "id": "a9dc0d29",
   "metadata": {},
   "source": [
    "The date has no impact on the % of silica, so we can drop it."
   ]
  },
  {
   "cell_type": "code",
   "execution_count": 1043,
   "id": "e7ba3de3",
   "metadata": {},
   "outputs": [],
   "source": [
    "dataset.drop(['date'], axis=1, inplace=True)"
   ]
  },
  {
   "cell_type": "code",
   "execution_count": 1044,
   "id": "338d8418",
   "metadata": {},
   "outputs": [
    {
     "data": {
      "text/html": [
       "<div>\n",
       "<style scoped>\n",
       "    .dataframe tbody tr th:only-of-type {\n",
       "        vertical-align: middle;\n",
       "    }\n",
       "\n",
       "    .dataframe tbody tr th {\n",
       "        vertical-align: top;\n",
       "    }\n",
       "\n",
       "    .dataframe thead th {\n",
       "        text-align: right;\n",
       "    }\n",
       "</style>\n",
       "<table border=\"1\" class=\"dataframe\">\n",
       "  <thead>\n",
       "    <tr style=\"text-align: right;\">\n",
       "      <th></th>\n",
       "      <th>% Iron Feed</th>\n",
       "      <th>% Silica Feed</th>\n",
       "      <th>Starch Flow</th>\n",
       "      <th>Amina Flow</th>\n",
       "      <th>Ore Pulp Flow</th>\n",
       "      <th>Ore Pulp pH</th>\n",
       "      <th>Ore Pulp Density</th>\n",
       "      <th>Flotation Column 01 Air Flow</th>\n",
       "      <th>Flotation Column 02 Air Flow</th>\n",
       "      <th>Flotation Column 03 Air Flow</th>\n",
       "      <th>...</th>\n",
       "      <th>Flotation Column 07 Air Flow</th>\n",
       "      <th>Flotation Column 01 Level</th>\n",
       "      <th>Flotation Column 02 Level</th>\n",
       "      <th>Flotation Column 03 Level</th>\n",
       "      <th>Flotation Column 04 Level</th>\n",
       "      <th>Flotation Column 05 Level</th>\n",
       "      <th>Flotation Column 06 Level</th>\n",
       "      <th>Flotation Column 07 Level</th>\n",
       "      <th>% Iron Concentrate</th>\n",
       "      <th>% Silica Concentrate</th>\n",
       "    </tr>\n",
       "  </thead>\n",
       "  <tbody>\n",
       "    <tr>\n",
       "      <th>0</th>\n",
       "      <td>55.2</td>\n",
       "      <td>16.98</td>\n",
       "      <td>3019.53</td>\n",
       "      <td>557.434</td>\n",
       "      <td>395.713</td>\n",
       "      <td>10.0664</td>\n",
       "      <td>1.74</td>\n",
       "      <td>249.214</td>\n",
       "      <td>253.235</td>\n",
       "      <td>250.576</td>\n",
       "      <td>...</td>\n",
       "      <td>250.884</td>\n",
       "      <td>457.396</td>\n",
       "      <td>432.962</td>\n",
       "      <td>424.954</td>\n",
       "      <td>443.558</td>\n",
       "      <td>502.255</td>\n",
       "      <td>446.370</td>\n",
       "      <td>523.344</td>\n",
       "      <td>66.91</td>\n",
       "      <td>1.31</td>\n",
       "    </tr>\n",
       "    <tr>\n",
       "      <th>1</th>\n",
       "      <td>55.2</td>\n",
       "      <td>16.98</td>\n",
       "      <td>3024.41</td>\n",
       "      <td>563.965</td>\n",
       "      <td>397.383</td>\n",
       "      <td>10.0672</td>\n",
       "      <td>1.74</td>\n",
       "      <td>249.719</td>\n",
       "      <td>250.532</td>\n",
       "      <td>250.862</td>\n",
       "      <td>...</td>\n",
       "      <td>248.994</td>\n",
       "      <td>451.891</td>\n",
       "      <td>429.560</td>\n",
       "      <td>432.939</td>\n",
       "      <td>448.086</td>\n",
       "      <td>496.363</td>\n",
       "      <td>445.922</td>\n",
       "      <td>498.075</td>\n",
       "      <td>66.91</td>\n",
       "      <td>1.31</td>\n",
       "    </tr>\n",
       "    <tr>\n",
       "      <th>2</th>\n",
       "      <td>55.2</td>\n",
       "      <td>16.98</td>\n",
       "      <td>3043.46</td>\n",
       "      <td>568.054</td>\n",
       "      <td>399.668</td>\n",
       "      <td>10.0680</td>\n",
       "      <td>1.74</td>\n",
       "      <td>249.741</td>\n",
       "      <td>247.874</td>\n",
       "      <td>250.313</td>\n",
       "      <td>...</td>\n",
       "      <td>248.071</td>\n",
       "      <td>451.240</td>\n",
       "      <td>468.927</td>\n",
       "      <td>434.610</td>\n",
       "      <td>449.688</td>\n",
       "      <td>484.411</td>\n",
       "      <td>447.826</td>\n",
       "      <td>458.567</td>\n",
       "      <td>66.91</td>\n",
       "      <td>1.31</td>\n",
       "    </tr>\n",
       "    <tr>\n",
       "      <th>3</th>\n",
       "      <td>55.2</td>\n",
       "      <td>16.98</td>\n",
       "      <td>3047.36</td>\n",
       "      <td>568.665</td>\n",
       "      <td>397.939</td>\n",
       "      <td>10.0689</td>\n",
       "      <td>1.74</td>\n",
       "      <td>249.917</td>\n",
       "      <td>254.487</td>\n",
       "      <td>250.049</td>\n",
       "      <td>...</td>\n",
       "      <td>251.147</td>\n",
       "      <td>452.441</td>\n",
       "      <td>458.165</td>\n",
       "      <td>442.865</td>\n",
       "      <td>446.210</td>\n",
       "      <td>471.411</td>\n",
       "      <td>437.690</td>\n",
       "      <td>427.669</td>\n",
       "      <td>66.91</td>\n",
       "      <td>1.31</td>\n",
       "    </tr>\n",
       "    <tr>\n",
       "      <th>4</th>\n",
       "      <td>55.2</td>\n",
       "      <td>16.98</td>\n",
       "      <td>3033.69</td>\n",
       "      <td>558.167</td>\n",
       "      <td>400.254</td>\n",
       "      <td>10.0697</td>\n",
       "      <td>1.74</td>\n",
       "      <td>250.203</td>\n",
       "      <td>252.136</td>\n",
       "      <td>249.895</td>\n",
       "      <td>...</td>\n",
       "      <td>248.928</td>\n",
       "      <td>452.441</td>\n",
       "      <td>452.900</td>\n",
       "      <td>450.523</td>\n",
       "      <td>453.670</td>\n",
       "      <td>462.598</td>\n",
       "      <td>443.682</td>\n",
       "      <td>425.679</td>\n",
       "      <td>66.91</td>\n",
       "      <td>1.31</td>\n",
       "    </tr>\n",
       "  </tbody>\n",
       "</table>\n",
       "<p>5 rows × 23 columns</p>\n",
       "</div>"
      ],
      "text/plain": [
       "   % Iron Feed  % Silica Feed  Starch Flow  Amina Flow  Ore Pulp Flow  \\\n",
       "0         55.2          16.98      3019.53     557.434        395.713   \n",
       "1         55.2          16.98      3024.41     563.965        397.383   \n",
       "2         55.2          16.98      3043.46     568.054        399.668   \n",
       "3         55.2          16.98      3047.36     568.665        397.939   \n",
       "4         55.2          16.98      3033.69     558.167        400.254   \n",
       "\n",
       "   Ore Pulp pH  Ore Pulp Density  Flotation Column 01 Air Flow  \\\n",
       "0      10.0664              1.74                       249.214   \n",
       "1      10.0672              1.74                       249.719   \n",
       "2      10.0680              1.74                       249.741   \n",
       "3      10.0689              1.74                       249.917   \n",
       "4      10.0697              1.74                       250.203   \n",
       "\n",
       "   Flotation Column 02 Air Flow  Flotation Column 03 Air Flow  ...  \\\n",
       "0                       253.235                       250.576  ...   \n",
       "1                       250.532                       250.862  ...   \n",
       "2                       247.874                       250.313  ...   \n",
       "3                       254.487                       250.049  ...   \n",
       "4                       252.136                       249.895  ...   \n",
       "\n",
       "   Flotation Column 07 Air Flow  Flotation Column 01 Level  \\\n",
       "0                       250.884                    457.396   \n",
       "1                       248.994                    451.891   \n",
       "2                       248.071                    451.240   \n",
       "3                       251.147                    452.441   \n",
       "4                       248.928                    452.441   \n",
       "\n",
       "   Flotation Column 02 Level  Flotation Column 03 Level  \\\n",
       "0                    432.962                    424.954   \n",
       "1                    429.560                    432.939   \n",
       "2                    468.927                    434.610   \n",
       "3                    458.165                    442.865   \n",
       "4                    452.900                    450.523   \n",
       "\n",
       "   Flotation Column 04 Level  Flotation Column 05 Level  \\\n",
       "0                    443.558                    502.255   \n",
       "1                    448.086                    496.363   \n",
       "2                    449.688                    484.411   \n",
       "3                    446.210                    471.411   \n",
       "4                    453.670                    462.598   \n",
       "\n",
       "   Flotation Column 06 Level  Flotation Column 07 Level  % Iron Concentrate  \\\n",
       "0                    446.370                    523.344               66.91   \n",
       "1                    445.922                    498.075               66.91   \n",
       "2                    447.826                    458.567               66.91   \n",
       "3                    437.690                    427.669               66.91   \n",
       "4                    443.682                    425.679               66.91   \n",
       "\n",
       "   % Silica Concentrate  \n",
       "0                  1.31  \n",
       "1                  1.31  \n",
       "2                  1.31  \n",
       "3                  1.31  \n",
       "4                  1.31  \n",
       "\n",
       "[5 rows x 23 columns]"
      ]
     },
     "execution_count": 1044,
     "metadata": {},
     "output_type": "execute_result"
    }
   ],
   "source": [
    "dataset.head()"
   ]
  },
  {
   "attachments": {},
   "cell_type": "markdown",
   "id": "e727f542",
   "metadata": {},
   "source": [
    "### Check for Outliers"
   ]
  },
  {
   "attachments": {},
   "cell_type": "markdown",
   "id": "538b60ce",
   "metadata": {},
   "source": [
    "Visualize the data to see if there are any outliers"
   ]
  },
  {
   "cell_type": "code",
   "execution_count": 1045,
   "id": "171eccd9-cd79-4ece-b27b-b091cc947bdb",
   "metadata": {},
   "outputs": [
    {
     "data": {
      "image/png": "[encoded data removed]",
      "text/plain": [
       "<Figure size 432x288 with 1 Axes>"
      ]
     },
     "metadata": {
      "needs_background": "light"
     },
     "output_type": "display_data"
    },
    {
     "data": {
      "image/png": "[encoded data removed]",
      "text/plain": [
       "<Figure size 432x288 with 1 Axes>"
      ]
     },
     "metadata": {
      "needs_background": "light"
     },
     "output_type": "display_data"
    },
    {
     "data": {
      "image/png": "[encoded data removed]",
      "text/plain": [
       "<Figure size 432x288 with 1 Axes>"
      ]
     },
     "metadata": {
      "needs_background": "light"
     },
     "output_type": "display_data"
    },
    {
     "data": {
      "image/png": "[encoded data removed]",
      "text/plain": [
       "<Figure size 432x288 with 1 Axes>"
      ]
     },
     "metadata": {
      "needs_background": "light"
     },
     "output_type": "display_data"
    }
   ],
   "source": [
    "\n",
    "# create boxplots of each column except % silica concentrate\n",
    "x = dataset.iloc[:, :-1]\n",
    "for i in range(0, len(x.columns), 6):\n",
    "    sns.boxplot(data=x.iloc[:, i:i+6])\n",
    "    # make the x \n",
    "    plt.xticks(rotation=90)\n",
    "    plt.show()\n"
   ]
  },
  {
   "attachments": {},
   "cell_type": "markdown",
   "id": "1c562681",
   "metadata": {},
   "source": [
    "Based on the boxplots above, we want to remove outliers from the data."
   ]
  },
  {
   "attachments": {},
   "cell_type": "markdown",
   "id": "d24bc171",
   "metadata": {},
   "source": [
    "### Check for Correlation"
   ]
  },
  {
   "attachments": {},
   "cell_type": "markdown",
   "id": "b8e96c6f",
   "metadata": {},
   "source": [
    "Here we check for strong correlation between the % of silica column and the other columns."
   ]
  },
  {
   "cell_type": "code",
   "execution_count": 1046,
   "id": "655ad596",
   "metadata": {},
   "outputs": [
    {
     "data": {
      "image/png": "[encoded data removed]",
      "text/plain": [
       "<Figure size 2160x1800 with 2 Axes>"
      ]
     },
     "metadata": {
      "needs_background": "light"
     },
     "output_type": "display_data"
    },
    {
     "data": {
      "text/plain": [
       "% Silica Concentrate            1.000000\n",
       "Amina Flow                      0.156701\n",
       "% Silica Feed                   0.072724\n",
       "Ore Pulp Density                0.046984\n",
       "Flotation Column 02 Level       0.030955\n",
       "Flotation Column 01 Level       0.017217\n",
       "Flotation Column 03 Level       0.014246\n",
       "Ore Pulp Flow                   0.008222\n",
       "Flotation Column 04 Air Flow   -0.005011\n",
       "Flotation Column 05 Air Flow   -0.009293\n",
       "Flotation Column 06 Air Flow   -0.049650\n",
       "Starch Flow                    -0.066394\n",
       "Flotation Column 07 Air Flow   -0.071776\n",
       "% Iron Feed                    -0.077052\n",
       "Flotation Column 06 Level      -0.102443\n",
       "Flotation Column 07 Level      -0.141387\n",
       "Ore Pulp pH                    -0.147739\n",
       "Flotation Column 04 Level      -0.149456\n",
       "Flotation Column 02 Air Flow   -0.167398\n",
       "Flotation Column 05 Level      -0.169170\n",
       "Flotation Column 03 Air Flow   -0.218891\n",
       "Flotation Column 01 Air Flow   -0.219158\n",
       "% Iron Concentrate             -0.800560\n",
       "Name: % Silica Concentrate, dtype: float64"
      ]
     },
     "execution_count": 1046,
     "metadata": {},
     "output_type": "execute_result"
    }
   ],
   "source": [
    "# creating the correlation matrix\n",
    "corr_matrix = dataset.corr()\n",
    "\n",
    "# visualizing the correlation matrix\n",
    "plt.figure(figsize=(30, 25))  # to set the figure size\n",
    "heatmap(corr_matrix, annot=True, lw=0, linecolor='white', cmap='magma', fmt='0.2f')\n",
    "plt.title(\"Correlation Matrix\")  # to add title \n",
    "# incrase title size\n",
    "plt.title(\"Correlation Matrix\", fontsize=50)\n",
    "plt.xticks(rotation=90)\n",
    "plt.yticks(rotation=0)\n",
    "plt.show()\n",
    "corr_matrix['% Silica Concentrate'].sort_values(ascending=False)\n",
    "## End"
   ]
  },
  {
   "attachments": {},
   "cell_type": "markdown",
   "id": "5a3158a8-d49a-44b9-bd32-0c5dbf55b680",
   "metadata": {},
   "source": [
    "## Data Preprocessing"
   ]
  },
  {
   "cell_type": "markdown",
   "id": "620f24ac",
   "metadata": {},
   "source": [
    "### Remove Correlated Columns"
   ]
  },
  {
   "attachments": {},
   "cell_type": "markdown",
   "id": "fc5a39fe",
   "metadata": {},
   "source": [
    "We remove the columns that are highly correlated with the % of silica column."
   ]
  },
  {
   "cell_type": "code",
   "execution_count": 1047,
   "id": "b0ff92e8",
   "metadata": {},
   "outputs": [],
   "source": [
    "# remove the columns with high correlation\n",
    "# dataset = dataset.drop(['% Iron Concentrate', 'Ore Pulp pH', 'Flotation Column 01 Air Flow', 'Flotation Column 02 Air Flow', 'Flotation Column 03 Air Flow'], axis=1)"
   ]
  },
  {
   "cell_type": "markdown",
   "id": "d7d209b8",
   "metadata": {},
   "source": [
    "### Remove Outliers"
   ]
  },
  {
   "cell_type": "code",
   "execution_count": 1048,
   "id": "062b7a27",
   "metadata": {},
   "outputs": [
    {
     "data": {
      "text/html": [
       "<div>\n",
       "<style scoped>\n",
       "    .dataframe tbody tr th:only-of-type {\n",
       "        vertical-align: middle;\n",
       "    }\n",
       "\n",
       "    .dataframe tbody tr th {\n",
       "        vertical-align: top;\n",
       "    }\n",
       "\n",
       "    .dataframe thead th {\n",
       "        text-align: right;\n",
       "    }\n",
       "</style>\n",
       "<table border=\"1\" class=\"dataframe\">\n",
       "  <thead>\n",
       "    <tr style=\"text-align: right;\">\n",
       "      <th></th>\n",
       "      <th>% Iron Feed</th>\n",
       "      <th>% Silica Feed</th>\n",
       "      <th>Starch Flow</th>\n",
       "      <th>Amina Flow</th>\n",
       "      <th>Ore Pulp Flow</th>\n",
       "      <th>Ore Pulp pH</th>\n",
       "      <th>Ore Pulp Density</th>\n",
       "      <th>Flotation Column 01 Air Flow</th>\n",
       "      <th>Flotation Column 02 Air Flow</th>\n",
       "      <th>Flotation Column 03 Air Flow</th>\n",
       "      <th>...</th>\n",
       "      <th>Flotation Column 07 Air Flow</th>\n",
       "      <th>Flotation Column 01 Level</th>\n",
       "      <th>Flotation Column 02 Level</th>\n",
       "      <th>Flotation Column 03 Level</th>\n",
       "      <th>Flotation Column 04 Level</th>\n",
       "      <th>Flotation Column 05 Level</th>\n",
       "      <th>Flotation Column 06 Level</th>\n",
       "      <th>Flotation Column 07 Level</th>\n",
       "      <th>% Iron Concentrate</th>\n",
       "      <th>% Silica Concentrate</th>\n",
       "    </tr>\n",
       "  </thead>\n",
       "  <tbody>\n",
       "    <tr>\n",
       "      <th>0</th>\n",
       "      <td>55.2</td>\n",
       "      <td>16.98</td>\n",
       "      <td>3019.53</td>\n",
       "      <td>557.434</td>\n",
       "      <td>395.713</td>\n",
       "      <td>10.0664</td>\n",
       "      <td>1.74</td>\n",
       "      <td>249.214</td>\n",
       "      <td>253.235</td>\n",
       "      <td>250.576</td>\n",
       "      <td>...</td>\n",
       "      <td>250.884</td>\n",
       "      <td>457.396</td>\n",
       "      <td>432.962</td>\n",
       "      <td>424.954</td>\n",
       "      <td>443.558</td>\n",
       "      <td>502.255</td>\n",
       "      <td>446.370</td>\n",
       "      <td>523.344</td>\n",
       "      <td>66.91</td>\n",
       "      <td>1.31</td>\n",
       "    </tr>\n",
       "    <tr>\n",
       "      <th>1</th>\n",
       "      <td>55.2</td>\n",
       "      <td>16.98</td>\n",
       "      <td>3024.41</td>\n",
       "      <td>563.965</td>\n",
       "      <td>397.383</td>\n",
       "      <td>10.0672</td>\n",
       "      <td>1.74</td>\n",
       "      <td>249.719</td>\n",
       "      <td>250.532</td>\n",
       "      <td>250.862</td>\n",
       "      <td>...</td>\n",
       "      <td>248.994</td>\n",
       "      <td>451.891</td>\n",
       "      <td>429.560</td>\n",
       "      <td>432.939</td>\n",
       "      <td>448.086</td>\n",
       "      <td>496.363</td>\n",
       "      <td>445.922</td>\n",
       "      <td>498.075</td>\n",
       "      <td>66.91</td>\n",
       "      <td>1.31</td>\n",
       "    </tr>\n",
       "    <tr>\n",
       "      <th>2</th>\n",
       "      <td>55.2</td>\n",
       "      <td>16.98</td>\n",
       "      <td>3043.46</td>\n",
       "      <td>568.054</td>\n",
       "      <td>399.668</td>\n",
       "      <td>10.0680</td>\n",
       "      <td>1.74</td>\n",
       "      <td>249.741</td>\n",
       "      <td>247.874</td>\n",
       "      <td>250.313</td>\n",
       "      <td>...</td>\n",
       "      <td>248.071</td>\n",
       "      <td>451.240</td>\n",
       "      <td>468.927</td>\n",
       "      <td>434.610</td>\n",
       "      <td>449.688</td>\n",
       "      <td>484.411</td>\n",
       "      <td>447.826</td>\n",
       "      <td>458.567</td>\n",
       "      <td>66.91</td>\n",
       "      <td>1.31</td>\n",
       "    </tr>\n",
       "    <tr>\n",
       "      <th>3</th>\n",
       "      <td>55.2</td>\n",
       "      <td>16.98</td>\n",
       "      <td>3047.36</td>\n",
       "      <td>568.665</td>\n",
       "      <td>397.939</td>\n",
       "      <td>10.0689</td>\n",
       "      <td>1.74</td>\n",
       "      <td>249.917</td>\n",
       "      <td>254.487</td>\n",
       "      <td>250.049</td>\n",
       "      <td>...</td>\n",
       "      <td>251.147</td>\n",
       "      <td>452.441</td>\n",
       "      <td>458.165</td>\n",
       "      <td>442.865</td>\n",
       "      <td>446.210</td>\n",
       "      <td>471.411</td>\n",
       "      <td>437.690</td>\n",
       "      <td>427.669</td>\n",
       "      <td>66.91</td>\n",
       "      <td>1.31</td>\n",
       "    </tr>\n",
       "    <tr>\n",
       "      <th>4</th>\n",
       "      <td>55.2</td>\n",
       "      <td>16.98</td>\n",
       "      <td>3033.69</td>\n",
       "      <td>558.167</td>\n",
       "      <td>400.254</td>\n",
       "      <td>10.0697</td>\n",
       "      <td>1.74</td>\n",
       "      <td>250.203</td>\n",
       "      <td>252.136</td>\n",
       "      <td>249.895</td>\n",
       "      <td>...</td>\n",
       "      <td>248.928</td>\n",
       "      <td>452.441</td>\n",
       "      <td>452.900</td>\n",
       "      <td>450.523</td>\n",
       "      <td>453.670</td>\n",
       "      <td>462.598</td>\n",
       "      <td>443.682</td>\n",
       "      <td>425.679</td>\n",
       "      <td>66.91</td>\n",
       "      <td>1.31</td>\n",
       "    </tr>\n",
       "  </tbody>\n",
       "</table>\n",
       "<p>5 rows × 23 columns</p>\n",
       "</div>"
      ],
      "text/plain": [
       "   % Iron Feed  % Silica Feed  Starch Flow  Amina Flow  Ore Pulp Flow  \\\n",
       "0         55.2          16.98      3019.53     557.434        395.713   \n",
       "1         55.2          16.98      3024.41     563.965        397.383   \n",
       "2         55.2          16.98      3043.46     568.054        399.668   \n",
       "3         55.2          16.98      3047.36     568.665        397.939   \n",
       "4         55.2          16.98      3033.69     558.167        400.254   \n",
       "\n",
       "   Ore Pulp pH  Ore Pulp Density  Flotation Column 01 Air Flow  \\\n",
       "0      10.0664              1.74                       249.214   \n",
       "1      10.0672              1.74                       249.719   \n",
       "2      10.0680              1.74                       249.741   \n",
       "3      10.0689              1.74                       249.917   \n",
       "4      10.0697              1.74                       250.203   \n",
       "\n",
       "   Flotation Column 02 Air Flow  Flotation Column 03 Air Flow  ...  \\\n",
       "0                       253.235                       250.576  ...   \n",
       "1                       250.532                       250.862  ...   \n",
       "2                       247.874                       250.313  ...   \n",
       "3                       254.487                       250.049  ...   \n",
       "4                       252.136                       249.895  ...   \n",
       "\n",
       "   Flotation Column 07 Air Flow  Flotation Column 01 Level  \\\n",
       "0                       250.884                    457.396   \n",
       "1                       248.994                    451.891   \n",
       "2                       248.071                    451.240   \n",
       "3                       251.147                    452.441   \n",
       "4                       248.928                    452.441   \n",
       "\n",
       "   Flotation Column 02 Level  Flotation Column 03 Level  \\\n",
       "0                    432.962                    424.954   \n",
       "1                    429.560                    432.939   \n",
       "2                    468.927                    434.610   \n",
       "3                    458.165                    442.865   \n",
       "4                    452.900                    450.523   \n",
       "\n",
       "   Flotation Column 04 Level  Flotation Column 05 Level  \\\n",
       "0                    443.558                    502.255   \n",
       "1                    448.086                    496.363   \n",
       "2                    449.688                    484.411   \n",
       "3                    446.210                    471.411   \n",
       "4                    453.670                    462.598   \n",
       "\n",
       "   Flotation Column 06 Level  Flotation Column 07 Level  % Iron Concentrate  \\\n",
       "0                    446.370                    523.344               66.91   \n",
       "1                    445.922                    498.075               66.91   \n",
       "2                    447.826                    458.567               66.91   \n",
       "3                    437.690                    427.669               66.91   \n",
       "4                    443.682                    425.679               66.91   \n",
       "\n",
       "   % Silica Concentrate  \n",
       "0                  1.31  \n",
       "1                  1.31  \n",
       "2                  1.31  \n",
       "3                  1.31  \n",
       "4                  1.31  \n",
       "\n",
       "[5 rows x 23 columns]"
      ]
     },
     "execution_count": 1048,
     "metadata": {},
     "output_type": "execute_result"
    }
   ],
   "source": [
    "dataset.head()"
   ]
  },
  {
   "attachments": {},
   "cell_type": "markdown",
   "id": "9449b6e2",
   "metadata": {},
   "source": [
    "Remove the outliers we found earlier. We will use the IQR method. "
   ]
  },
  {
   "cell_type": "code",
   "execution_count": 1049,
   "id": "5c8f29db",
   "metadata": {},
   "outputs": [],
   "source": [
    "# # remove outliers from Starch Flow column\n",
    "# dataset = dataset[dataset['Starch Flow'] < 6000]\n",
    "\n",
    "# # plot the boxplot again\n",
    "# sns.boxplot(data=dataset['Starch Flow'])"
   ]
  },
  {
   "cell_type": "code",
   "execution_count": 1050,
   "id": "51ca2d28",
   "metadata": {},
   "outputs": [],
   "source": [
    "# # remove outliers from all columns\n",
    "# x = dataset.iloc[:, :-1]\n",
    "# for i in range(0, len(x.columns)):\n",
    "#     q1 = dataset.iloc[:, i].quantile(0.25)\n",
    "#     q3 = dataset.iloc[:, i].quantile(0.75)\n",
    "#     iqr = q3 - q1\n",
    "#     lower_bound = q1 - (1.5 * iqr)\n",
    "#     upper_bound = q3 + (1.5 * iqr)\n",
    "#     dataset = dataset[(dataset.iloc[:, i] > lower_bound) & (dataset.iloc[:, i] < upper_bound)]\n",
    "\n",
    "# # # create boxplots of each column except % silica concentrate\n",
    "# x = dataset.iloc[:, :-1]\n",
    "# for i in range(0, len(x.columns), 6):\n",
    "#     sns.boxplot(data=x.iloc[:, i:i+6])\n",
    "#     # make the x\n",
    "#     plt.xticks(rotation=90)\n",
    "#     plt.show()\n"
   ]
  },
  {
   "cell_type": "code",
   "execution_count": 1051,
   "id": "ec77d706",
   "metadata": {},
   "outputs": [
    {
     "data": {
      "text/html": [
       "<div>\n",
       "<style scoped>\n",
       "    .dataframe tbody tr th:only-of-type {\n",
       "        vertical-align: middle;\n",
       "    }\n",
       "\n",
       "    .dataframe tbody tr th {\n",
       "        vertical-align: top;\n",
       "    }\n",
       "\n",
       "    .dataframe thead th {\n",
       "        text-align: right;\n",
       "    }\n",
       "</style>\n",
       "<table border=\"1\" class=\"dataframe\">\n",
       "  <thead>\n",
       "    <tr style=\"text-align: right;\">\n",
       "      <th></th>\n",
       "      <th>% Iron Feed</th>\n",
       "      <th>% Silica Feed</th>\n",
       "      <th>Starch Flow</th>\n",
       "      <th>Amina Flow</th>\n",
       "      <th>Ore Pulp Flow</th>\n",
       "      <th>Ore Pulp pH</th>\n",
       "      <th>Ore Pulp Density</th>\n",
       "      <th>Flotation Column 01 Air Flow</th>\n",
       "      <th>Flotation Column 02 Air Flow</th>\n",
       "      <th>Flotation Column 03 Air Flow</th>\n",
       "      <th>...</th>\n",
       "      <th>Flotation Column 07 Air Flow</th>\n",
       "      <th>Flotation Column 01 Level</th>\n",
       "      <th>Flotation Column 02 Level</th>\n",
       "      <th>Flotation Column 03 Level</th>\n",
       "      <th>Flotation Column 04 Level</th>\n",
       "      <th>Flotation Column 05 Level</th>\n",
       "      <th>Flotation Column 06 Level</th>\n",
       "      <th>Flotation Column 07 Level</th>\n",
       "      <th>% Iron Concentrate</th>\n",
       "      <th>% Silica Concentrate</th>\n",
       "    </tr>\n",
       "  </thead>\n",
       "  <tbody>\n",
       "    <tr>\n",
       "      <th>0</th>\n",
       "      <td>55.20</td>\n",
       "      <td>16.98</td>\n",
       "      <td>3019.53</td>\n",
       "      <td>557.434</td>\n",
       "      <td>395.713</td>\n",
       "      <td>10.06640</td>\n",
       "      <td>1.74000</td>\n",
       "      <td>249.214</td>\n",
       "      <td>253.235</td>\n",
       "      <td>250.576</td>\n",
       "      <td>...</td>\n",
       "      <td>250.884</td>\n",
       "      <td>457.396</td>\n",
       "      <td>432.962</td>\n",
       "      <td>424.954</td>\n",
       "      <td>443.558</td>\n",
       "      <td>502.255</td>\n",
       "      <td>446.370</td>\n",
       "      <td>523.344</td>\n",
       "      <td>66.91</td>\n",
       "      <td>1.31</td>\n",
       "    </tr>\n",
       "    <tr>\n",
       "      <th>1</th>\n",
       "      <td>55.20</td>\n",
       "      <td>16.98</td>\n",
       "      <td>3024.41</td>\n",
       "      <td>563.965</td>\n",
       "      <td>397.383</td>\n",
       "      <td>10.06720</td>\n",
       "      <td>1.74000</td>\n",
       "      <td>249.719</td>\n",
       "      <td>250.532</td>\n",
       "      <td>250.862</td>\n",
       "      <td>...</td>\n",
       "      <td>248.994</td>\n",
       "      <td>451.891</td>\n",
       "      <td>429.560</td>\n",
       "      <td>432.939</td>\n",
       "      <td>448.086</td>\n",
       "      <td>496.363</td>\n",
       "      <td>445.922</td>\n",
       "      <td>498.075</td>\n",
       "      <td>66.91</td>\n",
       "      <td>1.31</td>\n",
       "    </tr>\n",
       "    <tr>\n",
       "      <th>2</th>\n",
       "      <td>55.20</td>\n",
       "      <td>16.98</td>\n",
       "      <td>3043.46</td>\n",
       "      <td>568.054</td>\n",
       "      <td>399.668</td>\n",
       "      <td>10.06800</td>\n",
       "      <td>1.74000</td>\n",
       "      <td>249.741</td>\n",
       "      <td>247.874</td>\n",
       "      <td>250.313</td>\n",
       "      <td>...</td>\n",
       "      <td>248.071</td>\n",
       "      <td>451.240</td>\n",
       "      <td>468.927</td>\n",
       "      <td>434.610</td>\n",
       "      <td>449.688</td>\n",
       "      <td>484.411</td>\n",
       "      <td>447.826</td>\n",
       "      <td>458.567</td>\n",
       "      <td>66.91</td>\n",
       "      <td>1.31</td>\n",
       "    </tr>\n",
       "    <tr>\n",
       "      <th>3</th>\n",
       "      <td>55.20</td>\n",
       "      <td>16.98</td>\n",
       "      <td>3047.36</td>\n",
       "      <td>568.665</td>\n",
       "      <td>397.939</td>\n",
       "      <td>10.06890</td>\n",
       "      <td>1.74000</td>\n",
       "      <td>249.917</td>\n",
       "      <td>254.487</td>\n",
       "      <td>250.049</td>\n",
       "      <td>...</td>\n",
       "      <td>251.147</td>\n",
       "      <td>452.441</td>\n",
       "      <td>458.165</td>\n",
       "      <td>442.865</td>\n",
       "      <td>446.210</td>\n",
       "      <td>471.411</td>\n",
       "      <td>437.690</td>\n",
       "      <td>427.669</td>\n",
       "      <td>66.91</td>\n",
       "      <td>1.31</td>\n",
       "    </tr>\n",
       "    <tr>\n",
       "      <th>4</th>\n",
       "      <td>55.20</td>\n",
       "      <td>16.98</td>\n",
       "      <td>3033.69</td>\n",
       "      <td>558.167</td>\n",
       "      <td>400.254</td>\n",
       "      <td>10.06970</td>\n",
       "      <td>1.74000</td>\n",
       "      <td>250.203</td>\n",
       "      <td>252.136</td>\n",
       "      <td>249.895</td>\n",
       "      <td>...</td>\n",
       "      <td>248.928</td>\n",
       "      <td>452.441</td>\n",
       "      <td>452.900</td>\n",
       "      <td>450.523</td>\n",
       "      <td>453.670</td>\n",
       "      <td>462.598</td>\n",
       "      <td>443.682</td>\n",
       "      <td>425.679</td>\n",
       "      <td>66.91</td>\n",
       "      <td>1.31</td>\n",
       "    </tr>\n",
       "    <tr>\n",
       "      <th>...</th>\n",
       "      <td>...</td>\n",
       "      <td>...</td>\n",
       "      <td>...</td>\n",
       "      <td>...</td>\n",
       "      <td>...</td>\n",
       "      <td>...</td>\n",
       "      <td>...</td>\n",
       "      <td>...</td>\n",
       "      <td>...</td>\n",
       "      <td>...</td>\n",
       "      <td>...</td>\n",
       "      <td>...</td>\n",
       "      <td>...</td>\n",
       "      <td>...</td>\n",
       "      <td>...</td>\n",
       "      <td>...</td>\n",
       "      <td>...</td>\n",
       "      <td>...</td>\n",
       "      <td>...</td>\n",
       "      <td>...</td>\n",
       "      <td>...</td>\n",
       "    </tr>\n",
       "    <tr>\n",
       "      <th>737448</th>\n",
       "      <td>49.75</td>\n",
       "      <td>23.20</td>\n",
       "      <td>2710.94</td>\n",
       "      <td>441.052</td>\n",
       "      <td>386.570</td>\n",
       "      <td>9.62129</td>\n",
       "      <td>1.65365</td>\n",
       "      <td>302.344</td>\n",
       "      <td>298.786</td>\n",
       "      <td>299.163</td>\n",
       "      <td>...</td>\n",
       "      <td>313.695</td>\n",
       "      <td>392.160</td>\n",
       "      <td>430.702</td>\n",
       "      <td>872.008</td>\n",
       "      <td>418.725</td>\n",
       "      <td>497.548</td>\n",
       "      <td>446.357</td>\n",
       "      <td>416.892</td>\n",
       "      <td>64.27</td>\n",
       "      <td>1.71</td>\n",
       "    </tr>\n",
       "    <tr>\n",
       "      <th>737449</th>\n",
       "      <td>49.75</td>\n",
       "      <td>23.20</td>\n",
       "      <td>2692.01</td>\n",
       "      <td>473.436</td>\n",
       "      <td>384.939</td>\n",
       "      <td>9.62063</td>\n",
       "      <td>1.65352</td>\n",
       "      <td>303.013</td>\n",
       "      <td>301.879</td>\n",
       "      <td>299.487</td>\n",
       "      <td>...</td>\n",
       "      <td>236.700</td>\n",
       "      <td>401.505</td>\n",
       "      <td>404.616</td>\n",
       "      <td>864.409</td>\n",
       "      <td>418.377</td>\n",
       "      <td>506.398</td>\n",
       "      <td>372.995</td>\n",
       "      <td>426.337</td>\n",
       "      <td>64.27</td>\n",
       "      <td>1.71</td>\n",
       "    </tr>\n",
       "    <tr>\n",
       "      <th>737450</th>\n",
       "      <td>49.75</td>\n",
       "      <td>23.20</td>\n",
       "      <td>2692.20</td>\n",
       "      <td>500.488</td>\n",
       "      <td>383.496</td>\n",
       "      <td>9.61874</td>\n",
       "      <td>1.65338</td>\n",
       "      <td>303.662</td>\n",
       "      <td>307.397</td>\n",
       "      <td>299.487</td>\n",
       "      <td>...</td>\n",
       "      <td>225.879</td>\n",
       "      <td>408.899</td>\n",
       "      <td>399.316</td>\n",
       "      <td>867.598</td>\n",
       "      <td>419.531</td>\n",
       "      <td>503.414</td>\n",
       "      <td>336.035</td>\n",
       "      <td>433.130</td>\n",
       "      <td>64.27</td>\n",
       "      <td>1.71</td>\n",
       "    </tr>\n",
       "    <tr>\n",
       "      <th>737451</th>\n",
       "      <td>49.75</td>\n",
       "      <td>23.20</td>\n",
       "      <td>1164.12</td>\n",
       "      <td>491.548</td>\n",
       "      <td>384.976</td>\n",
       "      <td>9.61686</td>\n",
       "      <td>1.65324</td>\n",
       "      <td>302.550</td>\n",
       "      <td>301.959</td>\n",
       "      <td>298.045</td>\n",
       "      <td>...</td>\n",
       "      <td>308.115</td>\n",
       "      <td>405.107</td>\n",
       "      <td>466.832</td>\n",
       "      <td>876.591</td>\n",
       "      <td>407.299</td>\n",
       "      <td>502.301</td>\n",
       "      <td>340.844</td>\n",
       "      <td>433.966</td>\n",
       "      <td>64.27</td>\n",
       "      <td>1.71</td>\n",
       "    </tr>\n",
       "    <tr>\n",
       "      <th>737452</th>\n",
       "      <td>49.75</td>\n",
       "      <td>23.20</td>\n",
       "      <td>1164.12</td>\n",
       "      <td>468.019</td>\n",
       "      <td>384.801</td>\n",
       "      <td>9.61497</td>\n",
       "      <td>1.65310</td>\n",
       "      <td>300.355</td>\n",
       "      <td>292.865</td>\n",
       "      <td>298.625</td>\n",
       "      <td>...</td>\n",
       "      <td>308.115</td>\n",
       "      <td>413.754</td>\n",
       "      <td>514.143</td>\n",
       "      <td>881.323</td>\n",
       "      <td>378.969</td>\n",
       "      <td>500.100</td>\n",
       "      <td>374.354</td>\n",
       "      <td>441.182</td>\n",
       "      <td>64.27</td>\n",
       "      <td>1.71</td>\n",
       "    </tr>\n",
       "  </tbody>\n",
       "</table>\n",
       "<p>737453 rows × 23 columns</p>\n",
       "</div>"
      ],
      "text/plain": [
       "        % Iron Feed  % Silica Feed  Starch Flow  Amina Flow  Ore Pulp Flow  \\\n",
       "0             55.20          16.98      3019.53     557.434        395.713   \n",
       "1             55.20          16.98      3024.41     563.965        397.383   \n",
       "2             55.20          16.98      3043.46     568.054        399.668   \n",
       "3             55.20          16.98      3047.36     568.665        397.939   \n",
       "4             55.20          16.98      3033.69     558.167        400.254   \n",
       "...             ...            ...          ...         ...            ...   \n",
       "737448        49.75          23.20      2710.94     441.052        386.570   \n",
       "737449        49.75          23.20      2692.01     473.436        384.939   \n",
       "737450        49.75          23.20      2692.20     500.488        383.496   \n",
       "737451        49.75          23.20      1164.12     491.548        384.976   \n",
       "737452        49.75          23.20      1164.12     468.019        384.801   \n",
       "\n",
       "        Ore Pulp pH  Ore Pulp Density  Flotation Column 01 Air Flow  \\\n",
       "0          10.06640           1.74000                       249.214   \n",
       "1          10.06720           1.74000                       249.719   \n",
       "2          10.06800           1.74000                       249.741   \n",
       "3          10.06890           1.74000                       249.917   \n",
       "4          10.06970           1.74000                       250.203   \n",
       "...             ...               ...                           ...   \n",
       "737448      9.62129           1.65365                       302.344   \n",
       "737449      9.62063           1.65352                       303.013   \n",
       "737450      9.61874           1.65338                       303.662   \n",
       "737451      9.61686           1.65324                       302.550   \n",
       "737452      9.61497           1.65310                       300.355   \n",
       "\n",
       "        Flotation Column 02 Air Flow  Flotation Column 03 Air Flow  ...  \\\n",
       "0                            253.235                       250.576  ...   \n",
       "1                            250.532                       250.862  ...   \n",
       "2                            247.874                       250.313  ...   \n",
       "3                            254.487                       250.049  ...   \n",
       "4                            252.136                       249.895  ...   \n",
       "...                              ...                           ...  ...   \n",
       "737448                       298.786                       299.163  ...   \n",
       "737449                       301.879                       299.487  ...   \n",
       "737450                       307.397                       299.487  ...   \n",
       "737451                       301.959                       298.045  ...   \n",
       "737452                       292.865                       298.625  ...   \n",
       "\n",
       "        Flotation Column 07 Air Flow  Flotation Column 01 Level  \\\n",
       "0                            250.884                    457.396   \n",
       "1                            248.994                    451.891   \n",
       "2                            248.071                    451.240   \n",
       "3                            251.147                    452.441   \n",
       "4                            248.928                    452.441   \n",
       "...                              ...                        ...   \n",
       "737448                       313.695                    392.160   \n",
       "737449                       236.700                    401.505   \n",
       "737450                       225.879                    408.899   \n",
       "737451                       308.115                    405.107   \n",
       "737452                       308.115                    413.754   \n",
       "\n",
       "        Flotation Column 02 Level  Flotation Column 03 Level  \\\n",
       "0                         432.962                    424.954   \n",
       "1                         429.560                    432.939   \n",
       "2                         468.927                    434.610   \n",
       "3                         458.165                    442.865   \n",
       "4                         452.900                    450.523   \n",
       "...                           ...                        ...   \n",
       "737448                    430.702                    872.008   \n",
       "737449                    404.616                    864.409   \n",
       "737450                    399.316                    867.598   \n",
       "737451                    466.832                    876.591   \n",
       "737452                    514.143                    881.323   \n",
       "\n",
       "        Flotation Column 04 Level  Flotation Column 05 Level  \\\n",
       "0                         443.558                    502.255   \n",
       "1                         448.086                    496.363   \n",
       "2                         449.688                    484.411   \n",
       "3                         446.210                    471.411   \n",
       "4                         453.670                    462.598   \n",
       "...                           ...                        ...   \n",
       "737448                    418.725                    497.548   \n",
       "737449                    418.377                    506.398   \n",
       "737450                    419.531                    503.414   \n",
       "737451                    407.299                    502.301   \n",
       "737452                    378.969                    500.100   \n",
       "\n",
       "        Flotation Column 06 Level  Flotation Column 07 Level  \\\n",
       "0                         446.370                    523.344   \n",
       "1                         445.922                    498.075   \n",
       "2                         447.826                    458.567   \n",
       "3                         437.690                    427.669   \n",
       "4                         443.682                    425.679   \n",
       "...                           ...                        ...   \n",
       "737448                    446.357                    416.892   \n",
       "737449                    372.995                    426.337   \n",
       "737450                    336.035                    433.130   \n",
       "737451                    340.844                    433.966   \n",
       "737452                    374.354                    441.182   \n",
       "\n",
       "        % Iron Concentrate  % Silica Concentrate  \n",
       "0                    66.91                  1.31  \n",
       "1                    66.91                  1.31  \n",
       "2                    66.91                  1.31  \n",
       "3                    66.91                  1.31  \n",
       "4                    66.91                  1.31  \n",
       "...                    ...                   ...  \n",
       "737448               64.27                  1.71  \n",
       "737449               64.27                  1.71  \n",
       "737450               64.27                  1.71  \n",
       "737451               64.27                  1.71  \n",
       "737452               64.27                  1.71  \n",
       "\n",
       "[737453 rows x 23 columns]"
      ]
     },
     "execution_count": 1051,
     "metadata": {},
     "output_type": "execute_result"
    }
   ],
   "source": [
    "dataset"
   ]
  },
  {
   "attachments": {},
   "cell_type": "markdown",
   "id": "1108c242",
   "metadata": {},
   "source": [
    "Split the dataset into input and output"
   ]
  },
  {
   "cell_type": "code",
   "execution_count": 1052,
   "id": "573ee49b",
   "metadata": {},
   "outputs": [],
   "source": [
    "# split into X and y\n",
    "X = dataset.iloc[:, :-1]\n",
    "y = dataset.iloc[:, -1]"
   ]
  },
  {
   "cell_type": "markdown",
   "id": "595d6266",
   "metadata": {},
   "source": [
    "### Feature Scaling"
   ]
  },
  {
   "cell_type": "code",
   "execution_count": 1053,
   "id": "9f7e5eab",
   "metadata": {},
   "outputs": [],
   "source": [
    "scaler = StandardScaler()\n",
    "X = scaler.fit_transform(X)"
   ]
  },
  {
   "attachments": {},
   "cell_type": "markdown",
   "id": "830ec5d1",
   "metadata": {},
   "source": [
    "### Splitting the datset into the Training set and Test set"
   ]
  },
  {
   "cell_type": "code",
   "execution_count": 1054,
   "id": "f1393161-46cd-4ba8-9821-a4298733f28c",
   "metadata": {},
   "outputs": [],
   "source": [
    "X_train, X_test, y_train, y_test = train_test_split(X, y, test_size = 0.2, random_state = 0)"
   ]
  },
  {
   "cell_type": "code",
   "execution_count": 1055,
   "id": "57074b52",
   "metadata": {},
   "outputs": [
    {
     "name": "stdout",
     "output_type": "stream",
     "text": [
      "(589962,)\n",
      "(589962, 22)\n"
     ]
    }
   ],
   "source": [
    "print(y_train.shape)\n",
    "print(X_train.shape)"
   ]
  },
  {
   "attachments": {},
   "cell_type": "markdown",
   "id": "29b469a6-89a5-4e9c-a0ba-5642bb1db9dc",
   "metadata": {},
   "source": [
    "### A Quick Check of the Output Data"
   ]
  },
  {
   "cell_type": "code",
   "execution_count": 1056,
   "id": "0acdbab5-61b2-4402-8e18-718c32c8c06b",
   "metadata": {},
   "outputs": [
    {
     "data": {
      "text/plain": [
       "array([1.49      , 2.37      , 2.04      , ..., 3.63431885, 3.14      ,\n",
       "       1.48      ])"
      ]
     },
     "execution_count": 1056,
     "metadata": {},
     "output_type": "execute_result"
    }
   ],
   "source": [
    "y_train = y_train.ravel()\n",
    "y_train"
   ]
  },
  {
   "cell_type": "code",
   "execution_count": 1057,
   "id": "2a82501e",
   "metadata": {},
   "outputs": [
    {
     "name": "stdout",
     "output_type": "stream",
     "text": [
      "<class 'numpy.ndarray'>\n",
      "<class 'numpy.ndarray'>\n"
     ]
    }
   ],
   "source": [
    "print(type(X_train))\n",
    "print(type(y_train))"
   ]
  },
  {
   "attachments": {},
   "cell_type": "markdown",
   "id": "50ad566d-d2a5-46b3-9fc5-ee9ee974ba6e",
   "metadata": {},
   "source": [
    "## Linear Regression Model"
   ]
  },
  {
   "attachments": {},
   "cell_type": "markdown",
   "id": "1394ea29",
   "metadata": {},
   "source": [
    "### Step 1. Training the Model"
   ]
  },
  {
   "cell_type": "code",
   "execution_count": 1058,
   "id": "c435834f",
   "metadata": {},
   "outputs": [
    {
     "data": {
      "text/plain": [
       "LinearRegression()"
      ]
     },
     "execution_count": 1058,
     "metadata": {},
     "output_type": "execute_result"
    }
   ],
   "source": [
    "from sklearn.linear_model import LinearRegression\n",
    "regressor = LinearRegression()\n",
    "regressor.fit(X_train, y_train)"
   ]
  },
  {
   "attachments": {},
   "cell_type": "markdown",
   "id": "3b802353",
   "metadata": {},
   "source": [
    "### Step 2. Predicting the Test set results"
   ]
  },
  {
   "cell_type": "code",
   "execution_count": 1059,
   "id": "a4102d38",
   "metadata": {},
   "outputs": [],
   "source": [
    "predictions = regressor.predict(X_test)"
   ]
  },
  {
   "attachments": {},
   "cell_type": "markdown",
   "id": "58f8c4aa",
   "metadata": {},
   "source": [
    "Make a random prediction"
   ]
  },
  {
   "cell_type": "code",
   "execution_count": 1060,
   "id": "db2370fb",
   "metadata": {},
   "outputs": [
    {
     "data": {
      "text/plain": [
       "array([2.57, 1.77, 2.13, ..., 1.7 , 2.55, 1.33])"
      ]
     },
     "execution_count": 1060,
     "metadata": {},
     "output_type": "execute_result"
    }
   ],
   "source": [
    "y_test = y_test.ravel()\n",
    "y_test"
   ]
  },
  {
   "cell_type": "code",
   "execution_count": 1061,
   "id": "fd360bae",
   "metadata": {},
   "outputs": [
    {
     "name": "stdout",
     "output_type": "stream",
     "text": [
      "The Prediction % Silica = 1.6491874998836307\n",
      "The Actual % Silica = 1.74\n"
     ]
    }
   ],
   "source": [
    "print(\"The Prediction % Silica =\",predictions[6])\n",
    "print(\"The Actual % Silica =\",y_test[6])"
   ]
  },
  {
   "attachments": {},
   "cell_type": "markdown",
   "id": "cca7fe21",
   "metadata": {},
   "source": [
    "### Step 3. Evaluating the Model Performance"
   ]
  },
  {
   "cell_type": "code",
   "execution_count": 1062,
   "id": "23a9ce72",
   "metadata": {},
   "outputs": [
    {
     "name": "stdout",
     "output_type": "stream",
     "text": [
      "The R2 Score = 0.677515901644576 %\n",
      "The Root Mean Squared Error = 0.7013602823585287 %\n"
     ]
    }
   ],
   "source": [
    "from sklearn.metrics import r2_score, mean_squared_error, mean_absolute_error\n",
    "\n",
    "r2score = r2_score(y_test, predictions)\n",
    "print(\"The R2 Score =\", r2score, \"%\")\n",
    "\n",
    "rmse = np.sqrt(mean_absolute_error(y_test, predictions))\n",
    "print(\"The Root Mean Squared Error =\", rmse ,\"%\")"
   ]
  },
  {
   "attachments": {},
   "cell_type": "markdown",
   "id": "a41e0943",
   "metadata": {},
   "source": [
    "Measure the accuracy of the model"
   ]
  },
  {
   "cell_type": "code",
   "execution_count": 1063,
   "id": "b93837ad",
   "metadata": {},
   "outputs": [
    {
     "name": "stdout",
     "output_type": "stream",
     "text": [
      "<class 'numpy.ndarray'>\n",
      "(147491,)\n"
     ]
    },
    {
     "data": {
      "text/plain": [
       "array([2.57, 1.77, 2.13, ..., 1.7 , 2.55, 1.33])"
      ]
     },
     "execution_count": 1063,
     "metadata": {},
     "output_type": "execute_result"
    }
   ],
   "source": [
    "y_test = y_test.ravel()\n",
    "print(type(y_test))\n",
    "print(y_test.shape)\n",
    "y_test\n"
   ]
  },
  {
   "cell_type": "code",
   "execution_count": 1064,
   "id": "6e32152f",
   "metadata": {},
   "outputs": [
    {
     "name": "stdout",
     "output_type": "stream",
     "text": [
      "<class 'numpy.ndarray'>\n",
      "(147491,)\n"
     ]
    },
    {
     "data": {
      "text/plain": [
       "array([2.07959476, 1.34148844, 1.03085354, ..., 1.76282878, 3.41535618,\n",
       "       2.00420421])"
      ]
     },
     "execution_count": 1064,
     "metadata": {},
     "output_type": "execute_result"
    }
   ],
   "source": [
    "print(type(predictions))\n",
    "print(predictions.shape)\n",
    "predictions"
   ]
  },
  {
   "attachments": {},
   "cell_type": "markdown",
   "id": "d44f98a4",
   "metadata": {},
   "source": [
    "Measuring the average accuracy of the model"
   ]
  },
  {
   "cell_type": "code",
   "execution_count": 1065,
   "id": "0c806e1c",
   "metadata": {},
   "outputs": [
    {
     "name": "stdout",
     "output_type": "stream",
     "text": [
      "The Accuracy of the Model = 0.758 %\n"
     ]
    }
   ],
   "source": [
    "avg_accuracy = 0\n",
    "for i in range(len(predictions)):\n",
    "    error = abs(predictions[i] - y_test[i])\n",
    "    avg_accuracy += 1 - error / y_test[i]\n",
    "\n",
    "\n",
    "avg_accuracy = avg_accuracy / len(predictions)\n",
    "print(\"The Accuracy of the Model =\", round(avg_accuracy, 3), \"%\")        "
   ]
  },
  {
   "attachments": {},
   "cell_type": "markdown",
   "id": "14523eb0",
   "metadata": {},
   "source": [
    "reference\n",
    "\n",
    "https://www.kaggle.com/code/aditya100/quality-prediction-in-iron-ore\n"
   ]
  },
  {
   "attachments": {},
   "cell_type": "markdown",
   "id": "0ca2e242",
   "metadata": {},
   "source": [
    "## Lasso Regressor Model"
   ]
  },
  {
   "attachments": {},
   "cell_type": "markdown",
   "id": "701cc0d5",
   "metadata": {},
   "source": [
    "### Step 1. Training the Model"
   ]
  },
  {
   "cell_type": "code",
   "execution_count": 1066,
   "id": "5cfb06fa",
   "metadata": {},
   "outputs": [
    {
     "data": {
      "text/plain": [
       "Lasso()"
      ]
     },
     "execution_count": 1066,
     "metadata": {},
     "output_type": "execute_result"
    }
   ],
   "source": [
    "from sklearn.linear_model import Lasso\n",
    "lasso = Lasso()\n",
    "lasso.fit(X_train, y_train)\n"
   ]
  },
  {
   "attachments": {},
   "cell_type": "markdown",
   "id": "805e770e",
   "metadata": {},
   "source": [
    "### Step 2. Predicting the Test set results"
   ]
  },
  {
   "cell_type": "code",
   "execution_count": 1067,
   "id": "fa6c203f",
   "metadata": {},
   "outputs": [],
   "source": [
    "predictions = lasso.predict(X_test)"
   ]
  },
  {
   "attachments": {},
   "cell_type": "markdown",
   "id": "f5c7993e",
   "metadata": {},
   "source": [
    "Make a random prediction"
   ]
  },
  {
   "cell_type": "code",
   "execution_count": 1068,
   "id": "c7db50e7",
   "metadata": {},
   "outputs": [
    {
     "name": "stdout",
     "output_type": "stream",
     "text": [
      "The Prediction % Silica = 2.3278165308678163 %\n",
      "The Actual % Silica = 3.1622099448 %\n"
     ]
    }
   ],
   "source": [
    "print(\"The Prediction % Silica =\",predictions[7], \"%\")\n",
    "print(\"The Actual % Silica =\",y_test[7], \"%\")"
   ]
  },
  {
   "attachments": {},
   "cell_type": "markdown",
   "id": "8396bcc1",
   "metadata": {},
   "source": [
    "### Step 3. Evaluating the Model Performance"
   ]
  },
  {
   "cell_type": "code",
   "execution_count": 1069,
   "id": "852f3461",
   "metadata": {},
   "outputs": [
    {
     "name": "stdout",
     "output_type": "stream",
     "text": [
      "The R2 Score = -2.2059210165625842e-05\n",
      "The Mean Squared Error = 1.2573163124876727\n"
     ]
    }
   ],
   "source": [
    "r2score = r2_score(y_test, predictions)\n",
    "print(\"The R2 Score =\", r2score)\n",
    "\n",
    "error = mean_squared_error(y_test, predictions)\n",
    "print(\"The Mean Squared Error =\", error)"
   ]
  },
  {
   "attachments": {},
   "cell_type": "markdown",
   "id": "97541028",
   "metadata": {},
   "source": [
    "## Stochastic Gradient Descent Regressor Model"
   ]
  },
  {
   "cell_type": "code",
   "execution_count": 1070,
   "id": "9a98e941",
   "metadata": {},
   "outputs": [
    {
     "data": {
      "text/plain": [
       "SGDRegressor()"
      ]
     },
     "execution_count": 1070,
     "metadata": {},
     "output_type": "execute_result"
    }
   ],
   "source": [
    "from sklearn.linear_model import SGDRegressor\n",
    "sgd = SGDRegressor()\n",
    "sgd.fit(X_train, y_train)"
   ]
  },
  {
   "cell_type": "code",
   "execution_count": 1071,
   "id": "493607e6",
   "metadata": {},
   "outputs": [],
   "source": [
    "prediction = sgd.predict(X_test)"
   ]
  },
  {
   "cell_type": "code",
   "execution_count": 1072,
   "id": "7182907b",
   "metadata": {},
   "outputs": [
    {
     "name": "stdout",
     "output_type": "stream",
     "text": [
      "The Prediction % Silica = 2.3278165308678163 %\n",
      "The Actual % Silica = 3.1622099448 %\n"
     ]
    }
   ],
   "source": [
    "print(\"The Prediction % Silica =\",predictions[7], \"%\")\n",
    "print(\"The Actual % Silica =\",y_test[7], \"%\")"
   ]
  },
  {
   "cell_type": "code",
   "execution_count": 1073,
   "id": "2f3e6cc3",
   "metadata": {},
   "outputs": [
    {
     "name": "stdout",
     "output_type": "stream",
     "text": [
      "The R2 Score = -2.2059210165625842e-05\n",
      "The Mean Squared Error = 1.2573163124876727\n"
     ]
    }
   ],
   "source": [
    "r2score = r2_score(y_test, predictions)\n",
    "print(\"The R2 Score =\", r2score)\n",
    "\n",
    "error = mean_squared_error(y_test, predictions)\n",
    "print(\"The Mean Squared Error =\", error)"
   ]
  },
  {
   "attachments": {},
   "cell_type": "markdown",
   "id": "37203bf9",
   "metadata": {},
   "source": [
    "## Support Vector Regressor Model"
   ]
  },
  {
   "cell_type": "code",
   "execution_count": 1074,
   "id": "43d7ef39",
   "metadata": {},
   "outputs": [],
   "source": [
    "# from sklearn.svm import SVR\n",
    "# svr = SVR(kernel='rbf')\n",
    "# svr.fit(X_train, y_train)"
   ]
  },
  {
   "cell_type": "code",
   "execution_count": 1075,
   "id": "4e258a4d",
   "metadata": {},
   "outputs": [],
   "source": [
    "# prediction = svr.predict(X_test)"
   ]
  },
  {
   "cell_type": "code",
   "execution_count": 1076,
   "id": "cfdc0418",
   "metadata": {},
   "outputs": [],
   "source": [
    "# print(\"The Prediction % Silica =\",predictions[7], \"%\")\n",
    "# print(\"The Actual % Silica =\",y_test[7], \"%\")"
   ]
  },
  {
   "cell_type": "code",
   "execution_count": 1077,
   "id": "5fe4c997",
   "metadata": {},
   "outputs": [],
   "source": [
    "# r2score = r2_score(y_test, predictions)\n",
    "# print(\"The R2 Score =\", r2score)\n",
    "\n",
    "# error = mean_squared_error(y_test, predictions)\n",
    "# print(\"The Mean Squared Error =\", error)"
   ]
  }
 ],
 "metadata": {
  "kernelspec": {
   "display_name": "Python 3.9.12 ('base')",
   "language": "python",
   "name": "python3"
  },
  "language_info": {
   "codemirror_mode": {
    "name": "ipython",
    "version": 3
   },
   "file_extension": ".py",
   "mimetype": "text/x-python",
   "name": "python",
   "nbconvert_exporter": "python",
   "pygments_lexer": "ipython3",
   "version": "3.9.12"
  },
  "vscode": {
   "interpreter": {
    "hash": "124e47c1ad6ceb91c3ceb1dde65cfb37b91587009ebc216d439d411f4704dda1"
   }
  }
 },
 "nbformat": 4,
 "nbformat_minor": 5
}
